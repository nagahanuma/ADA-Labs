{
  "nbformat": 4,
  "nbformat_minor": 0,
  "metadata": {
    "colab": {
      "name": "ADA-Prac.ipynb",
      "provenance": []
    },
    "kernelspec": {
      "name": "python3",
      "display_name": "Python 3"
    },
    "language_info": {
      "name": "python"
    }
  },
  "cells": [
    {
      "cell_type": "code",
      "metadata": {
        "colab": {
          "base_uri": "https://localhost:8080/"
        },
        "id": "T8aEBjW-liOB",
        "outputId": "f55c0207-c138-4d79-fc01-0004bdb94551"
      },
      "source": [
        "n=int(input())\n"
      ],
      "execution_count": null,
      "outputs": [
        {
          "output_type": "stream",
          "text": [
            "3\n"
          ],
          "name": "stdout"
        }
      ]
    },
    {
      "cell_type": "code",
      "metadata": {
        "colab": {
          "base_uri": "https://localhost:8080/"
        },
        "id": "GPRmdnSDl0Q6",
        "outputId": "5ae60e6e-9149-4d56-c305-749d793b97ce"
      },
      "source": [
        "ar = [[int(input()) for x in range(n)] for x in range(n)]"
      ],
      "execution_count": null,
      "outputs": [
        {
          "output_type": "stream",
          "text": [
            "2\n",
            "5\n",
            "6\n",
            "4\n",
            "8\n",
            "7\n",
            "9\n",
            "3\n",
            "1\n"
          ],
          "name": "stdout"
        }
      ]
    },
    {
      "cell_type": "code",
      "metadata": {
        "colab": {
          "base_uri": "https://localhost:8080/"
        },
        "id": "yhWsbyqnnoE4",
        "outputId": "19c7e8f3-fa79-4ed9-9795-cad9bf189c48"
      },
      "source": [
        "print(ar)"
      ],
      "execution_count": null,
      "outputs": [
        {
          "output_type": "stream",
          "text": [
            "[[2, 5, 6], [4, 8, 7], [9, 3, 1]]\n"
          ],
          "name": "stdout"
        }
      ]
    },
    {
      "cell_type": "code",
      "metadata": {
        "colab": {
          "base_uri": "https://localhost:8080/"
        },
        "id": "EDJ9H6qCoAKm",
        "outputId": "54aa446b-7397-4f66-ea33-a83685566cf2"
      },
      "source": [
        "b=sorted(ar,reverse=True)\n",
        "b"
      ],
      "execution_count": null,
      "outputs": [
        {
          "output_type": "execute_result",
          "data": {
            "text/plain": [
              "[[9, 3, 1], [4, 8, 7], [2, 5, 6]]"
            ]
          },
          "metadata": {
            "tags": []
          },
          "execution_count": 17
        }
      ]
    },
    {
      "cell_type": "code",
      "metadata": {
        "id": "BKaOu65JpH1c"
      },
      "source": [
        "c=[]\n",
        "for i in ar:\n",
        "  for j in i:\n",
        "    c.append(j)"
      ],
      "execution_count": null,
      "outputs": []
    },
    {
      "cell_type": "code",
      "metadata": {
        "colab": {
          "base_uri": "https://localhost:8080/"
        },
        "id": "aKeoKKLppX2F",
        "outputId": "f82e7b49-fdb0-4db8-b39e-42900da629e6"
      },
      "source": [
        "print(sorted(c))"
      ],
      "execution_count": null,
      "outputs": [
        {
          "output_type": "stream",
          "text": [
            "[1, 2, 3, 4, 5, 6, 7, 8, 9]\n"
          ],
          "name": "stdout"
        }
      ]
    },
    {
      "cell_type": "code",
      "metadata": {
        "colab": {
          "base_uri": "https://localhost:8080/"
        },
        "id": "NFpc3Kzbp8Nv",
        "outputId": "5225e440-cd95-4249-bf31-80f4271d496c"
      },
      "source": [
        "m=int(input())\n",
        "ar = [[input() for x in range(2)] for x in range(m)]"
      ],
      "execution_count": null,
      "outputs": [
        {
          "output_type": "stream",
          "text": [
            "4\n",
            "0\n",
            "c\n",
            "1\n",
            "b\n",
            "0\n",
            "a\n",
            "1\n",
            "d\n"
          ],
          "name": "stdout"
        }
      ]
    },
    {
      "cell_type": "code",
      "metadata": {
        "colab": {
          "base_uri": "https://localhost:8080/"
        },
        "id": "o31LamHaqx7g",
        "outputId": "9086174f-97e0-45fe-dd44-ea773fe6e818"
      },
      "source": [
        "print(ar)"
      ],
      "execution_count": null,
      "outputs": [
        {
          "output_type": "stream",
          "text": [
            "[['0', 'c'], ['1', 'b'], ['0', 'a'], ['1', 'd']]\n"
          ],
          "name": "stdout"
        }
      ]
    },
    {
      "cell_type": "code",
      "metadata": {
        "colab": {
          "base_uri": "https://localhost:8080/"
        },
        "id": "OFX9R3lzrAIG",
        "outputId": "2a4697d7-d36e-45fd-b8a7-f9d241bc21e1"
      },
      "source": [
        "print(sorted(ar))"
      ],
      "execution_count": null,
      "outputs": [
        {
          "output_type": "stream",
          "text": [
            "[['0', 'a'], ['0', 'c'], ['1', 'b'], ['1', 'd']]\n"
          ],
          "name": "stdout"
        }
      ]
    },
    {
      "cell_type": "code",
      "metadata": {
        "id": "VYC1Z3fDrDqE",
        "colab": {
          "base_uri": "https://localhost:8080/"
        },
        "outputId": "4425df96-1055-4983-a513-bbeda1a9c2e3"
      },
      "source": [
        "S=input()\n",
        "s=[]\n",
        "for i in S:\n",
        "  s.append([i,S.index(i)])\n",
        "print(s)"
      ],
      "execution_count": null,
      "outputs": [
        {
          "output_type": "stream",
          "text": [
            "12sef\n",
            "[['1', 0], ['2', 1], ['s', 2], ['e', 3], ['f', 4]]\n"
          ],
          "name": "stdout"
        }
      ]
    },
    {
      "cell_type": "code",
      "metadata": {
        "colab": {
          "base_uri": "https://localhost:8080/"
        },
        "id": "jQJMFEButMqG",
        "outputId": "0af820e2-c9a8-4d31-dbb1-e35c42580590"
      },
      "source": [
        "print(sorted(s))"
      ],
      "execution_count": null,
      "outputs": [
        {
          "output_type": "stream",
          "text": [
            "[['1', 0], ['2', 1], ['e', 3], ['f', 4], ['s', 2]]\n"
          ],
          "name": "stdout"
        }
      ]
    },
    {
      "cell_type": "markdown",
      "metadata": {
        "id": "kkr28_Om3gIA"
      },
      "source": [
        "##PRACTICAL 5"
      ]
    },
    {
      "cell_type": "code",
      "metadata": {
        "colab": {
          "base_uri": "https://localhost:8080/"
        },
        "id": "8sgHoDOu3nDI",
        "outputId": "ba35cde4-aa76-4622-e400-de9e467ffce6"
      },
      "source": [
        "def maxArea(A, Len) :\n",
        "\tarea = 0\n",
        "\tfor i in range(Len) :\n",
        "\t\tfor j in range(i + 1, Len) :\n",
        "\t\t\tarea = max(area, min(A[j], A[i]) * (j - i))\n",
        "\treturn area\n",
        "a = list(map(int,input().strip().split()))\n",
        "len1 = len(a)\n",
        "print(maxArea(a, len1))"
      ],
      "execution_count": null,
      "outputs": [
        {
          "output_type": "stream",
          "text": [
            "1 8 6 2 5 4 8 3 7\n",
            "49\n"
          ],
          "name": "stdout"
        }
      ]
    },
    {
      "cell_type": "code",
      "metadata": {
        "colab": {
          "base_uri": "https://localhost:8080/"
        },
        "id": "sjOv5eqn4Fx-",
        "outputId": "8afa197b-63ef-4699-90df-557df43e9a90"
      },
      "source": [
        "st=list(map(str,input().strip().split()))\n",
        "k=int(input())\n",
        "C,C1,C2=0,0,0\n",
        "P,T=[],[]\n",
        "for i in st:\n",
        "  if i=='P':\n",
        "    P.append(st.index(i))\n",
        "  else:\n",
        "    T.append(st.index(i))\n",
        "while C<len(P) and C1<len(T):\n",
        "    if (abs( T[C1] - P[C] ) <= k):\n",
        "              C2+=1\n",
        "              C1+=1\n",
        "              C+=1\n",
        "    elif T[C1] < P[C]:\n",
        "      C1+=1\n",
        "    else:\n",
        "      C+=1\n",
        "print(C2)"
      ],
      "execution_count": null,
      "outputs": [
        {
          "output_type": "stream",
          "text": [
            "P T T T P\n",
            "1\n",
            "2\n"
          ],
          "name": "stdout"
        }
      ]
    },
    {
      "cell_type": "code",
      "metadata": {
        "colab": {
          "base_uri": "https://localhost:8080/"
        },
        "id": "jYy_F6cx4_GP",
        "outputId": "8c14ed0e-1fd7-4b88-de41-65c40bda40f6"
      },
      "source": [
        "P=list(map(int,input().strip().split()))\n",
        "D=list(map(int,input().strip().split()))\n",
        "A=[[P[i],D[i]] for i in range(len(P))]\n",
        "B=sorted(A,reverse=True)"
      ],
      "execution_count": null,
      "outputs": [
        {
          "output_type": "stream",
          "text": [
            "3 5 20 18 1 6 30\n",
            "1 3 4 3 2 1 2\n"
          ],
          "name": "stdout"
        }
      ]
    },
    {
      "cell_type": "code",
      "metadata": {
        "colab": {
          "base_uri": "https://localhost:8080/"
        },
        "id": "c0FUG-Uw7AGV",
        "outputId": "038bd9c1-0587-4b7f-83ca-d80e326c6d44"
      },
      "source": [
        "a=[]\n",
        "c=0\n",
        "for i in range(len(B)):\n",
        "  #print(B[i][1])\n",
        "  if B[i][1] not in a:\n",
        "    a.append(B[i][1])\n",
        "    c+=B[i][0]\n",
        "print(c)"
      ],
      "execution_count": null,
      "outputs": [
        {
          "output_type": "stream",
          "text": [
            "2\n",
            "4\n",
            "3\n",
            "1\n",
            "3\n",
            "1\n",
            "2\n",
            "74\n"
          ],
          "name": "stdout"
        }
      ]
    },
    {
      "cell_type": "code",
      "metadata": {
        "id": "Nz3FEzBc7bJX"
      },
      "source": [
        "S=input()\n"
      ],
      "execution_count": null,
      "outputs": []
    },
    {
      "cell_type": "code",
      "metadata": {
        "colab": {
          "base_uri": "https://localhost:8080/",
          "height": 328
        },
        "id": "t_rSb2BMBXTy",
        "outputId": "39581006-2056-4cda-cd95-3b83612fc395"
      },
      "source": [
        "import sys\n",
        "class Graph():\n",
        "\n",
        "\tdef __init__(self, vertices):\n",
        "\t\tself.V = vertices\n",
        "\t\tself.graph = [[0 for column in range(vertices)]\n",
        "\t\t\t\t\tfor row in range(vertices)]\n",
        "\n",
        "\tdef printSolution(self, dist):\n",
        "\t\tprint(\"Vertex \\tDistance from Source\")\n",
        "\t\tfor node in range(self.V):\n",
        "\t\t\tprint(node, \"\\t\", dist[node])\n",
        "\tdef minDistance(self, dist, sptSet):\n",
        "\n",
        "\t\tmin = sys.maxint\n",
        "\n",
        "\t\tfor v in range(self.V):\n",
        "\t\t\tif dist[v] < min and sptSet[v] == False:\n",
        "\t\t\t\tmin = dist[v]\n",
        "\t\t\t\tmin_index = v\n",
        "\n",
        "\t\treturn min_index\n",
        "\n",
        "\tdef dijkstra(self, src):\n",
        "\n",
        "\t\tdist = [sys.maxint] * self.V\n",
        "\t\tdist[src] = 0\n",
        "\t\tsptSet = [False] * self.V\n",
        "\n",
        "\t\tfor cout in range(self.V):\n",
        "\t\t\tu = self.minDistance(dist, sptSet)\n",
        "\n",
        "\t\t\tsptSet[u] = True\n",
        "\t\t\tfor v in range(self.V):\n",
        "\t\t\t\tif self.graph[u][v] > 0 and sptSet[v] == False and \\\n",
        "\t\t\t\tdist[v] > dist[u] + self.graph[u][v]:\n",
        "\t\t\t\t\t\tdist[v] = dist[u] + self.graph[u][v]\n",
        "\n",
        "\t\tself.printSolution(dist)\n",
        "\n",
        "g = Graph(9)\n",
        "g.graph = [[0, 4, 0, 0, 0, 0, 0, 8, 0],\n",
        "\t\t[4, 0, 8, 0, 0, 0, 0, 11, 0],\n",
        "\t\t[0, 8, 0, 7, 0, 4, 0, 0, 2],\n",
        "\t\t[0, 0, 7, 0, 9, 14, 0, 0, 0],\n",
        "\t\t[0, 0, 0, 9, 0, 10, 0, 0, 0],\n",
        "\t\t[0, 0, 4, 14, 10, 0, 2, 0, 0],\n",
        "\t\t[0, 0, 0, 0, 0, 2, 0, 1, 6],\n",
        "\t\t[8, 11, 0, 0, 0, 0, 1, 0, 7],\n",
        "\t\t[0, 0, 2, 0, 0, 0, 6, 7, 0]\n",
        "\t\t];\n",
        "g.dijkstra(0);\n"
      ],
      "execution_count": null,
      "outputs": [
        {
          "output_type": "error",
          "ename": "AttributeError",
          "evalue": "ignored",
          "traceback": [
            "\u001b[0;31m---------------------------------------------------------------------------\u001b[0m",
            "\u001b[0;31mAttributeError\u001b[0m                            Traceback (most recent call last)",
            "\u001b[0;32m<ipython-input-2-fefd137cfcd3>\u001b[0m in \u001b[0;36m<module>\u001b[0;34m()\u001b[0m\n\u001b[1;32m     49\u001b[0m                 \u001b[0;34m[\u001b[0m\u001b[0;36m0\u001b[0m\u001b[0;34m,\u001b[0m \u001b[0;36m0\u001b[0m\u001b[0;34m,\u001b[0m \u001b[0;36m2\u001b[0m\u001b[0;34m,\u001b[0m \u001b[0;36m0\u001b[0m\u001b[0;34m,\u001b[0m \u001b[0;36m0\u001b[0m\u001b[0;34m,\u001b[0m \u001b[0;36m0\u001b[0m\u001b[0;34m,\u001b[0m \u001b[0;36m6\u001b[0m\u001b[0;34m,\u001b[0m \u001b[0;36m7\u001b[0m\u001b[0;34m,\u001b[0m \u001b[0;36m0\u001b[0m\u001b[0;34m]\u001b[0m\u001b[0;34m\u001b[0m\u001b[0;34m\u001b[0m\u001b[0m\n\u001b[1;32m     50\u001b[0m \t\t];\n\u001b[0;32m---> 51\u001b[0;31m \u001b[0mg\u001b[0m\u001b[0;34m.\u001b[0m\u001b[0mdijkstra\u001b[0m\u001b[0;34m(\u001b[0m\u001b[0;36m0\u001b[0m\u001b[0;34m)\u001b[0m\u001b[0;34m;\u001b[0m\u001b[0;34m\u001b[0m\u001b[0;34m\u001b[0m\u001b[0m\n\u001b[0m",
            "\u001b[0;32m<ipython-input-2-fefd137cfcd3>\u001b[0m in \u001b[0;36mdijkstra\u001b[0;34m(self, src)\u001b[0m\n\u001b[1;32m     24\u001b[0m         \u001b[0;32mdef\u001b[0m \u001b[0mdijkstra\u001b[0m\u001b[0;34m(\u001b[0m\u001b[0mself\u001b[0m\u001b[0;34m,\u001b[0m \u001b[0msrc\u001b[0m\u001b[0;34m)\u001b[0m\u001b[0;34m:\u001b[0m\u001b[0;34m\u001b[0m\u001b[0;34m\u001b[0m\u001b[0m\n\u001b[1;32m     25\u001b[0m \u001b[0;34m\u001b[0m\u001b[0m\n\u001b[0;32m---> 26\u001b[0;31m                 \u001b[0mdist\u001b[0m \u001b[0;34m=\u001b[0m \u001b[0;34m[\u001b[0m\u001b[0msys\u001b[0m\u001b[0;34m.\u001b[0m\u001b[0mmaxint\u001b[0m\u001b[0;34m]\u001b[0m \u001b[0;34m*\u001b[0m \u001b[0mself\u001b[0m\u001b[0;34m.\u001b[0m\u001b[0mV\u001b[0m\u001b[0;34m\u001b[0m\u001b[0;34m\u001b[0m\u001b[0m\n\u001b[0m\u001b[1;32m     27\u001b[0m                 \u001b[0mdist\u001b[0m\u001b[0;34m[\u001b[0m\u001b[0msrc\u001b[0m\u001b[0;34m]\u001b[0m \u001b[0;34m=\u001b[0m \u001b[0;36m0\u001b[0m\u001b[0;34m\u001b[0m\u001b[0;34m\u001b[0m\u001b[0m\n\u001b[1;32m     28\u001b[0m                 \u001b[0msptSet\u001b[0m \u001b[0;34m=\u001b[0m \u001b[0;34m[\u001b[0m\u001b[0;32mFalse\u001b[0m\u001b[0;34m]\u001b[0m \u001b[0;34m*\u001b[0m \u001b[0mself\u001b[0m\u001b[0;34m.\u001b[0m\u001b[0mV\u001b[0m\u001b[0;34m\u001b[0m\u001b[0;34m\u001b[0m\u001b[0m\n",
            "\u001b[0;31mAttributeError\u001b[0m: module 'sys' has no attribute 'maxint'"
          ]
        }
      ]
    },
    {
      "cell_type": "markdown",
      "metadata": {
        "id": "EI0QmYBv_DGh"
      },
      "source": [
        "**PRACTICAL 6**"
      ]
    },
    {
      "cell_type": "code",
      "metadata": {
        "id": "S0FgHhxPBu9A",
        "colab": {
          "base_uri": "https://localhost:8080/"
        },
        "outputId": "ba320844-4f28-4ea4-8f1c-da6d2e5653c9"
      },
      "source": [
        "#postlab 2\n",
        "class Graph:\n",
        "    def __init__(self, vertices):\n",
        "        self.V = vertices\n",
        "        self.graph = []\n",
        "\n",
        "    def add_edge(self, u, v, w):\n",
        "        self.graph.append([u, v, w])\n",
        "    def find(self, parent, i):\n",
        "        if parent[i] == i:\n",
        "            return i\n",
        "        return self.find(parent, parent[i])\n",
        "    def apply_union(self, parent, rank, x, y):\n",
        "        xroot = self.find(parent, x)\n",
        "        yroot = self.find(parent, y)\n",
        "        if rank[xroot] < rank[yroot]:\n",
        "            parent[xroot] = yroot\n",
        "        elif rank[xroot] > rank[yroot]:\n",
        "            parent[yroot] = xroot\n",
        "        else:\n",
        "            parent[yroot] = xroot\n",
        "            rank[xroot] += 1\n",
        "    def kruskal_algo(self):\n",
        "        result = []\n",
        "        i, e = 0, 0\n",
        "        self.graph = sorted(self.graph, key=lambda item: item[2])\n",
        "        parent = []\n",
        "        rank = []\n",
        "        for node in range(self.V):\n",
        "            parent.append(node)\n",
        "            rank.append(0)\n",
        "        while e < self.V - 1:\n",
        "            u, v, w = self.graph[i]\n",
        "            i = i + 1\n",
        "            x = self.find(parent, u)\n",
        "            y = self.find(parent, v)\n",
        "            if x != y:\n",
        "                e = e + 1\n",
        "                result.append([u, v, w])\n",
        "                self.apply_union(parent, rank, x, y)\n",
        "        for u, v, weight in result:\n",
        "            print(\"%d - %d: %d\" % (u, v, weight))\n",
        "\n",
        "\n",
        "g = Graph(5)\n",
        "g.add_edge(0, 1, 2)\n",
        "g.add_edge(0, 2, 8)\n",
        "g.add_edge(1, 2, 6)\n",
        "g.add_edge(1, 0, 2)\n",
        "g.add_edge(2, 0, 8)\n",
        "g.add_edge(2, 1, 6)\n",
        "g.add_edge(1, 3, 5)\n",
        "g.add_edge(1, 4, 4)\n",
        "g.add_edge(2, 4, 7)\n",
        "g.kruskal_algo()"
      ],
      "execution_count": null,
      "outputs": [
        {
          "output_type": "stream",
          "name": "stdout",
          "text": [
            "0 - 1: 2\n",
            "1 - 4: 4\n",
            "1 - 3: 5\n",
            "1 - 2: 6\n"
          ]
        }
      ]
    },
    {
      "cell_type": "code",
      "metadata": {
        "colab": {
          "base_uri": "https://localhost:8080/"
        },
        "id": "pLd5V5e7Eql8",
        "outputId": "ef1940a9-3a88-4476-c93a-91297e33d7fd"
      },
      "source": [
        "def printJobScheduling(arr, t):\n",
        "    n = len(arr)\n",
        "    for i in range(n):\n",
        "        for j in range(n - 1 - i):\n",
        "            if arr[j][2] < arr[j + 1][2]:\n",
        "                arr[j], arr[j + 1] = arr[j + 1], arr[j]\n",
        "    result = [False] * t\n",
        "    job = ['-1'] * t\n",
        "    for i in range(len(arr)):\n",
        "        for j in range(min(t - 1, arr[i][1] - 1), -1, -1):\n",
        "  \n",
        "            if result[j] is False:\n",
        "                result[j] = True\n",
        "                job[j] = arr[i][0]\n",
        "                break\n",
        "    print(job)\n",
        "arr = [['a', 3, 35],\n",
        "       ['b', 4, 30],\n",
        "       ['c', 4, 25],\n",
        "       ['d', 2, 20],\n",
        "       ['e', 3, 15],\n",
        "       ['f', 1, 12],\n",
        "       ['g', 2, 5]]\n",
        "print(\"Following is maximum profit sequence of jobs\")\n",
        "printJobScheduling(arr, 3)"
      ],
      "execution_count": null,
      "outputs": [
        {
          "output_type": "stream",
          "name": "stdout",
          "text": [
            "Following is maximum profit sequence of jobs\n",
            "['c', 'b', 'a']\n"
          ]
        }
      ]
    },
    {
      "cell_type": "code",
      "metadata": {
        "id": "lNDZThQdMMQ0"
      },
      "source": [
        "#dijkstra\n",
        "import sys\n",
        "class Graph():\n",
        "\n",
        "\tdef __init__(self, vertices):\n",
        "\t\tself.V = vertices\n",
        "\t\tself.graph = [[0 for column in range(vertices)]\n",
        "\t\t\t\t\tfor row in range(vertices)]\n",
        "\n",
        "\tdef printSolution(self, dist):\n",
        "\t\tprint \"Vertex \\tDistance from Source\"\n",
        "\t\tfor node in range(self.V):\n",
        "\t\t\tprint node, \"\\t\", dist[node]\n",
        "\tdef minDistance(self, dist, sptSet):\n",
        "\n",
        "\t\tmin = sys.maxint\n",
        "\t\tfor u in range(self.V):\n",
        "\t\t\tif dist[u] < min and sptSet[u] == False:\n",
        "\t\t\t\tmin = dist[u]\n",
        "\t\t\t\tmin_index = u\n",
        "\n",
        "\t\treturn min_index\n",
        "\tdef dijkstra(self, src):\n",
        "\t\tdist = [sys.maxint] * self.V\n",
        "\t\tdist[src] = 0\n",
        "\t\tsptSet = [False] * self.V\n",
        "\n",
        "\t\tfor cout in range(self.V):\n",
        "\n",
        "\t\t\tx = self.minDistance(dist, sptSet)\n",
        "\t\t\tsptSet[x] = True\n",
        "\t\t\tfor y in range(self.V):\n",
        "\t\t\t\tif self.graph[x][y] > 0 and sptSet[y] == False and \\\n",
        "\t\t\t\tdist[y] > dist[x] + self.graph[x][y]:\n",
        "\t\t\t\t\t\tdist[y] = dist[x] + self.graph[x][y]\n",
        "\n",
        "\t\tself.printSolution(dist)\n",
        "g = Graph(9)\n",
        "g.graph = [[0, 4, 0, 0, 0, 0, 0, 8, 0],\n",
        "\t\t[4, 0, 8, 0, 0, 0, 0, 11, 0],\n",
        "\t\t[0, 8, 0, 7, 0, 4, 0, 0, 2],\n",
        "\t\t[0, 0, 7, 0, 9, 14, 0, 0, 0],\n",
        "\t\t[0, 0, 0, 9, 0, 10, 0, 0, 0],\n",
        "\t\t[0, 0, 4, 14, 10, 0, 2, 0, 0],\n",
        "\t\t[0, 0, 0, 0, 0, 2, 0, 1, 6],\n",
        "\t\t[8, 11, 0, 0, 0, 0, 1, 0, 7],\n",
        "\t\t[0, 0, 2, 0, 0, 0, 6, 7, 0]\n",
        "\t\t];\n",
        "\n",
        "g.dijkstra(0);\n",
        ".............................................\n",
        "\n",
        "\n",
        "\n",
        "\n",
        "\n",
        "\n",
        "\n",
        "\n",
        "\n",
        "\n",
        "\n",
        "\n",
        "\n",
        "\n",
        "\n",
        "\n",
        "\n",
        "\n",
        "\n",
        "\n",
        "\n",
        "\n",
        "\n",
        "\n",
        "\n",
        "\n",
        "\n",
        "\n",
        "\n",
        "\n",
        "\n",
        "\n",
        "\n",
        "\n"
      ],
      "execution_count": null,
      "outputs": []
    },
    {
      "cell_type": "code",
      "metadata": {
        "id": "UNk87yBdnf-Y"
      },
      "source": [
        "#prims\n",
        "def createAdjMatrix(V, G):\n",
        "      adjMatrix = []\n",
        "      for i in range(0, V):\n",
        "          adjMatrix.append([])\n",
        "          for j in range(0, V):\n",
        "              adjMatrix[i].append(0)\n",
        "      for i in range(0, len(G)):\n",
        "          adjMatrix[G[i][0]][G[i][1]] = G[i][2]\n",
        "          adjMatrix[G[i][1]][G[i][0]] = G[i][2]\n",
        "      return adjMatrix\n",
        "  def prims(V, G):\n",
        "      adjMatrix = createAdjMatrix(V, G)\n",
        "      vertex = 0\n",
        "      MST = []\n",
        "      edges = []\n",
        "      visited = []\n",
        "      minEdge = [None,None,float('inf')]\n",
        "      while len(MST) != V-1:\n",
        "          visited.append(vertex)\n",
        "          for r in range(0, V):\n",
        "              if adjMatrix[vertex][r] != 0:\n",
        "                  edges.append([vertex,r,adjMatrix[vertex][r]])\n",
        "          for e in range(0, len(edges)):\n",
        "              if edges[e][2] < minEdge[2] and edges[e][1] not in visited:\n",
        "                  minEdge = edges[e]\n",
        "          edges.remove(minEdge)\n",
        "          MST.append(minEdge)\n",
        "          vertex = minEdge[1]\n",
        "          minEdge = [None,None,float('inf')]\n",
        "      return MST\n",
        "  a, b, c, d, e, f = 0, 1, 2, 3, 4, 5\n",
        "  graph = [[a,b,2],\n",
        "           [a,c,3],\n",
        "           [b,d,3],\n",
        "           [b,c,5],\n",
        "           [b,e,4],\n",
        "           [c,e,4],\n",
        "           [d,e,2],\n",
        "           [d,f,3],\n",
        "           [e,f,5]]\n",
        "  print(prims(6, graph))"
      ],
      "execution_count": null,
      "outputs": []
    },
    {
      "cell_type": "markdown",
      "metadata": {
        "id": "SC5oqEvE1AMx"
      },
      "source": [
        "Practical-8"
      ]
    },
    {
      "cell_type": "code",
      "metadata": {
        "id": "tSzg5FZo1N7g",
        "colab": {
          "base_uri": "https://localhost:8080/"
        },
        "outputId": "a9f9d353-d992-4a66-8c68-fafdcd499499"
      },
      "source": [
        "from collections import defaultdict\n",
        "class Graph:\n",
        "\tdef __init__(self, graph):\n",
        "\t\tself.graph = graph\n",
        "\t\tself. ROW = len(graph)\n",
        "\tdef BFS(self, s, t, parent):\n",
        "\t\tvisited = [False]*(self.ROW)\n",
        "\t\tqueue = []\n",
        "\t\tqueue.append(s)\n",
        "\t\tvisited[s] = True\n",
        "\t\twhile queue:\n",
        "\t\t\tu = queue.pop(0)\n",
        "\t\t\tfor ind, val in enumerate(self.graph[u]):\n",
        "\t\t\t\tif visited[ind] == False and val > 0:\n",
        "\t\t\t\t\tqueue.append(ind)\n",
        "\t\t\t\t\tvisited[ind] = True\n",
        "\t\t\t\t\tparent[ind] = u\n",
        "\t\t\t\t\tif ind == t:\n",
        "\t\t\t\t\t\treturn True\n",
        "\t\treturn False\n",
        "\tdef FordFulkerson(self, source, sink):\n",
        "\t\tparent = [-1]*(self.ROW)\n",
        "\t\tmax_flow = 0 \n",
        "\t\twhile self.BFS(source, sink, parent) :\n",
        "\t\t\tpath_flow = float(\"Inf\")\n",
        "\t\t\ts = sink\n",
        "\t\t\twhile(s != source):\n",
        "\t\t\t\tpath_flow = min (path_flow, self.graph[parent[s]][s])\n",
        "\t\t\t\ts = parent[s]\n",
        "\t\t\tmax_flow += path_flow\n",
        "\t\t\tv = sink\n",
        "\t\t\twhile(v != source):\n",
        "\t\t\t\tu = parent[v]\n",
        "\t\t\t\tself.graph[u][v] -= path_flow\n",
        "\t\t\t\tself.graph[v][u] += path_flow\n",
        "\t\t\t\tv = parent[v]\n",
        "\t\treturn max_flow\n",
        "graph = [[0, 16, 13, 0, 0, 0],\n",
        "\t\t[0, 0, 10, 12, 0, 0],\n",
        "\t\t[0, 4, 0, 0, 14, 0],\n",
        "\t\t[0, 0, 9, 0, 0, 20],\n",
        "\t\t[0, 0, 0, 7, 0, 4],\n",
        "\t\t[0, 0, 0, 0, 0, 0]]\n",
        "g = Graph(graph)\n",
        "source = 0; sink = 5\n",
        "print (\"The maximum possible flow is %d \" % g.FordFulkerson(source, sink))"
      ],
      "execution_count": null,
      "outputs": [
        {
          "output_type": "stream",
          "name": "stdout",
          "text": [
            "The maximum possible flow is 23 \n"
          ]
        }
      ]
    },
    {
      "cell_type": "code",
      "metadata": {
        "id": "f9UBFMbD4Z_D",
        "colab": {
          "base_uri": "https://localhost:8080/"
        },
        "outputId": "95df6ab6-4af6-4624-f775-ab7670101399"
      },
      "source": [
        "from collections import defaultdict\n",
        "class Graph:\n",
        "\tdef __init__(self,graph):\n",
        "\t\tself.graph = graph \n",
        "\t\tself.org_graph = [i[:] for i in graph]\n",
        "\t\tself. ROW = len(graph)\n",
        "\t\tself.COL = len(graph[0])\n",
        "\tdef BFS(self,s, t, parent):\n",
        "\t\tvisited =[False]*(self.ROW)\n",
        "\t\tqueue=[]\n",
        "\t\tqueue.append(s)\n",
        "\t\tvisited[s] = True\n",
        "\t\twhile queue:\n",
        "\t\t\tu = queue.pop(0)\n",
        "\t\t\tfor ind, val in enumerate(self.graph[u]):\n",
        "\t\t\t\tif visited[ind] == False and val > 0 :\n",
        "\t\t\t\t\tqueue.append(ind)\n",
        "\t\t\t\t\tvisited[ind] = True\n",
        "\t\t\t\t\tparent[ind] = u\n",
        "\t\treturn True if visited[t] else False\n",
        "\tdef dfs(self, graph,s,visited):\n",
        "\t\tvisited[s]=True\n",
        "\t\tfor i in range(len(graph)):\n",
        "\t\t\tif graph[s][i]>0 and not visited[i]:\n",
        "\t\t\t\tself.dfs(graph,i,visited)\n",
        "\tdef minCut(self, source, sink):\n",
        "\t\tparent = [-1]*(self.ROW)\n",
        "\t\tmax_flow = 0\n",
        "\t\twhile self.BFS(source, sink, parent) :\n",
        "\t\t\tpath_flow = float(\"Inf\")-=\n",
        "\t\t\ts = sink\n",
        "\t\t\twhile(s != source):\n",
        "\t\t\t\tpath_flow = min (path_flow, self.graph[parent[s]][s])\n",
        "\t\t\t\ts = parent[s]\n",
        "\t\t\tmax_flow += path_flow\n",
        "\t\t\tv = sink\n",
        "\t\t\twhile(v != source):\n",
        "\t\t\t\tu = parent[v]\n",
        "\t\t\t\tself.graph[u][v] -= path_flow\n",
        "\t\t\t\tself.graph[v][u] += path_flow\n",
        "\t\t\t\tv = parent[v]\n",
        "\t\tvisited=len(self.graph)*[False]\n",
        "\t\tself.dfs(self.graph,s,visited)\n",
        "\t\tfor i in range(self.ROW):\n",
        "\t\t\tfor j in range(self.COL):\n",
        "\t\t\t\tif self.graph[i][j] == 0 and\\\n",
        "\t\t\t\tself.org_graph[i][j] > 0 and visited[i]:\n",
        "\t\t\t\t\tprint(str(i) + \" - \" + str(j))\n",
        "\n",
        "graph = [[0, 16, 13, 0, 0, 0],\n",
        "\t\t[0, 0, 10, 12, 0, 0],\n",
        "\t\t[0, 4, 0, 0, 14, 0],\n",
        "\t\t[0, 0, 9, 0, 0, 20],\n",
        "\t\t[0, 0, 0, 7, 0, 4],\n",
        "\t\t[0, 0, 0, 0, 0, 0]]\n",
        "g = Graph(graph)\n",
        "source = 0; sink = 5\n",
        "g.minCut(source, sink)"
      ],
      "execution_count": null,
      "outputs": [
        {
          "output_type": "stream",
          "name": "stdout",
          "text": [
            "1 - 3\n",
            "4 - 3\n",
            "4 - 5\n"
          ]
        }
      ]
    },
    {
      "cell_type": "code",
      "metadata": {
        "id": "SuJRq41gQnJP"
      },
      "source": [
        ""
      ],
      "execution_count": null,
      "outputs": []
    }
  ]
}